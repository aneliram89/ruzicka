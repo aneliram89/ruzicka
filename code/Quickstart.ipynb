{
 "cells": [
  {
   "cell_type": "markdown",
   "metadata": {},
   "source": [
    "# Ružička: Authorship Verification in Python"
   ]
  },
  {
   "cell_type": "markdown",
   "metadata": {},
   "source": [
    "In this notebook, we offer a quick tutorial as to how you could use the code in this repository. While the package is very much geared towards our own work in authorship verification, you might some of the more general functions useful. All feedback and comments are welcome. This code assumes Python 2.7+ (Python 3 has not been tested). You do not need to install the library to run the code below, but please note that there are a number of well-known third-party Python libraries, including:\n",
    "+ numpy\n",
    "+ scipy\n",
    "+ scikit-learn\n",
    "+ matplotlib\n",
    "+ seaborn\n",
    "+ numba\n",
    "\n",
    "and preferably (for GPU acceleration and/or JIT-compilation):\n",
    "+ theano\n",
    "+ numbapro\n",
    "\n",
    "We recommend installing Continuum's excellent [Anaconda Python framework](https://www.continuum.io/downloads), which comes bundled with most of these dependencies.\n"
   ]
  },
  {
   "cell_type": "markdown",
   "metadata": {},
   "source": [
    "## Walk through"
   ]
  },
  {
   "cell_type": "markdown",
   "metadata": {},
   "source": [
    "By default, we assume that your data sets are stored in a directory the format on the PAN 2014 track on authorship attribution: a directory should minimally include one folder per verification problem (an `unknown.txt` and at least one `known01.txt`) and a `truth.txt`. E.g. for the corpus of Dutch essays (`../data/2014/du_essays/train`), `truth.txt` contains has a tab-separated line with the ground truth for each problem:\n",
    "\n",
    "```\n",
    "DE001 Y\n",
    "DE002 Y\n",
    "DE003 N\n",
    "DE004 N\n",
    "DE005 N\n",
    "DE006 N\n",
    "DE007 N\n",
    "DE008 Y\n",
    "...\n",
    "```"
   ]
  },
  {
   "cell_type": "markdown",
   "metadata": {},
   "source": [
    "To inspect the problems:"
   ]
  },
  {
   "cell_type": "code",
   "execution_count": 1,
   "metadata": {
    "collapsed": false
   },
   "outputs": [
    {
     "name": "stdout",
     "output_type": "stream",
     "text": [
      "\u001b[34mDE001\u001b[m\u001b[m/         \u001b[34mDE014\u001b[m\u001b[m/         \u001b[34mDE027\u001b[m\u001b[m/         \u001b[34mDE040\u001b[m\u001b[m/         \u001b[34mDE053\u001b[m\u001b[m/         \u001b[34mDE066\u001b[m\u001b[m/         \u001b[34mDE079\u001b[m\u001b[m/         \u001b[34mDE092\u001b[m\u001b[m/\r\n",
      "\u001b[34mDE002\u001b[m\u001b[m/         \u001b[34mDE015\u001b[m\u001b[m/         \u001b[34mDE028\u001b[m\u001b[m/         \u001b[34mDE041\u001b[m\u001b[m/         \u001b[34mDE054\u001b[m\u001b[m/         \u001b[34mDE067\u001b[m\u001b[m/         \u001b[34mDE080\u001b[m\u001b[m/         \u001b[34mDE093\u001b[m\u001b[m/\r\n",
      "\u001b[34mDE003\u001b[m\u001b[m/         \u001b[34mDE016\u001b[m\u001b[m/         \u001b[34mDE029\u001b[m\u001b[m/         \u001b[34mDE042\u001b[m\u001b[m/         \u001b[34mDE055\u001b[m\u001b[m/         \u001b[34mDE068\u001b[m\u001b[m/         \u001b[34mDE081\u001b[m\u001b[m/         \u001b[34mDE094\u001b[m\u001b[m/\r\n",
      "\u001b[34mDE004\u001b[m\u001b[m/         \u001b[34mDE017\u001b[m\u001b[m/         \u001b[34mDE030\u001b[m\u001b[m/         \u001b[34mDE043\u001b[m\u001b[m/         \u001b[34mDE056\u001b[m\u001b[m/         \u001b[34mDE069\u001b[m\u001b[m/         \u001b[34mDE082\u001b[m\u001b[m/         \u001b[34mDE095\u001b[m\u001b[m/\r\n",
      "\u001b[34mDE005\u001b[m\u001b[m/         \u001b[34mDE018\u001b[m\u001b[m/         \u001b[34mDE031\u001b[m\u001b[m/         \u001b[34mDE044\u001b[m\u001b[m/         \u001b[34mDE057\u001b[m\u001b[m/         \u001b[34mDE070\u001b[m\u001b[m/         \u001b[34mDE083\u001b[m\u001b[m/         \u001b[34mDE096\u001b[m\u001b[m/\r\n",
      "\u001b[34mDE006\u001b[m\u001b[m/         \u001b[34mDE019\u001b[m\u001b[m/         \u001b[34mDE032\u001b[m\u001b[m/         \u001b[34mDE045\u001b[m\u001b[m/         \u001b[34mDE058\u001b[m\u001b[m/         \u001b[34mDE071\u001b[m\u001b[m/         \u001b[34mDE084\u001b[m\u001b[m/         \u001b[31mcontents.json\u001b[m\u001b[m*\r\n",
      "\u001b[34mDE007\u001b[m\u001b[m/         \u001b[34mDE020\u001b[m\u001b[m/         \u001b[34mDE033\u001b[m\u001b[m/         \u001b[34mDE046\u001b[m\u001b[m/         \u001b[34mDE059\u001b[m\u001b[m/         \u001b[34mDE072\u001b[m\u001b[m/         \u001b[34mDE085\u001b[m\u001b[m/         \u001b[31mtruth.json\u001b[m\u001b[m*\r\n",
      "\u001b[34mDE008\u001b[m\u001b[m/         \u001b[34mDE021\u001b[m\u001b[m/         \u001b[34mDE034\u001b[m\u001b[m/         \u001b[34mDE047\u001b[m\u001b[m/         \u001b[34mDE060\u001b[m\u001b[m/         \u001b[34mDE073\u001b[m\u001b[m/         \u001b[34mDE086\u001b[m\u001b[m/         \u001b[31mtruth.txt\u001b[m\u001b[m*\r\n",
      "\u001b[34mDE009\u001b[m\u001b[m/         \u001b[34mDE022\u001b[m\u001b[m/         \u001b[34mDE035\u001b[m\u001b[m/         \u001b[34mDE048\u001b[m\u001b[m/         \u001b[34mDE061\u001b[m\u001b[m/         \u001b[34mDE074\u001b[m\u001b[m/         \u001b[34mDE087\u001b[m\u001b[m/\r\n",
      "\u001b[34mDE010\u001b[m\u001b[m/         \u001b[34mDE023\u001b[m\u001b[m/         \u001b[34mDE036\u001b[m\u001b[m/         \u001b[34mDE049\u001b[m\u001b[m/         \u001b[34mDE062\u001b[m\u001b[m/         \u001b[34mDE075\u001b[m\u001b[m/         \u001b[34mDE088\u001b[m\u001b[m/\r\n",
      "\u001b[34mDE011\u001b[m\u001b[m/         \u001b[34mDE024\u001b[m\u001b[m/         \u001b[34mDE037\u001b[m\u001b[m/         \u001b[34mDE050\u001b[m\u001b[m/         \u001b[34mDE063\u001b[m\u001b[m/         \u001b[34mDE076\u001b[m\u001b[m/         \u001b[34mDE089\u001b[m\u001b[m/\r\n",
      "\u001b[34mDE012\u001b[m\u001b[m/         \u001b[34mDE025\u001b[m\u001b[m/         \u001b[34mDE038\u001b[m\u001b[m/         \u001b[34mDE051\u001b[m\u001b[m/         \u001b[34mDE064\u001b[m\u001b[m/         \u001b[34mDE077\u001b[m\u001b[m/         \u001b[34mDE090\u001b[m\u001b[m/\r\n",
      "\u001b[34mDE013\u001b[m\u001b[m/         \u001b[34mDE026\u001b[m\u001b[m/         \u001b[34mDE039\u001b[m\u001b[m/         \u001b[34mDE052\u001b[m\u001b[m/         \u001b[34mDE065\u001b[m\u001b[m/         \u001b[34mDE078\u001b[m\u001b[m/         \u001b[34mDE091\u001b[m\u001b[m/\r\n"
     ]
    }
   ],
   "source": [
    "ls ../data/2014/du_essays/train"
   ]
  },
  {
   "cell_type": "markdown",
   "metadata": {},
   "source": [
    "Let us now load the set of development problems for the Dutch essays:"
   ]
  },
  {
   "cell_type": "code",
   "execution_count": 2,
   "metadata": {
    "collapsed": false
   },
   "outputs": [],
   "source": [
    "from ruzicka.utilities import *\n",
    "D = '../data/2014/du_essays/'\n",
    "dev_train_data, dev_test_data = load_pan_dataset(D+'train')"
   ]
  },
  {
   "cell_type": "markdown",
   "metadata": {},
   "source": [
    "This functions loads all documents and splits the development data into a development part (the known documents) and a testing part (the unknown documents). We can unpack these as follows:"
   ]
  },
  {
   "cell_type": "code",
   "execution_count": 3,
   "metadata": {
    "collapsed": true
   },
   "outputs": [],
   "source": [
    "dev_train_labels, dev_train_documents = zip(*dev_train_data)\n",
    "dev_test_labels, dev_test_documents = zip(*dev_test_data)"
   ]
  },
  {
   "cell_type": "markdown",
   "metadata": {},
   "source": [
    "Let us have a look at the actual test texts:"
   ]
  },
  {
   "cell_type": "code",
   "execution_count": 4,
   "metadata": {
    "collapsed": false
   },
   "outputs": [
    {
     "name": "stdout",
     "output_type": "stream",
     "text": [
      "+  ﻿Dankzij het internet zijn we een grote bron aan informatie rijker .\n",
      "+  ﻿Het is dus begrijpelijk dat de commerciële zenders meer reclame mo\n",
      "+  ﻿\" Hey , vuile nicht ! Hangt er nog stront aan je lul ? \" . Dergelij\n",
      "+  ﻿Gelijkheid tussen man en vrouw is iets dat ons al eeuwen in de ban \n",
      "+  ﻿Gisteren was er opnieuw een protest tegen homofilie in de grootstad\n",
      "+  ﻿Voetbal is vandaag de dag zonder twijfel de populairste sport in Be\n",
      "+  ﻿Door de ongekende groei van nieuwsbronnen en de opkomst van het int\n",
      "+  ﻿Woordenboekgebruik uit interesse De categorie woordenboekgebruikers\n",
      "+  ﻿Ze bouwden een tegencultuur op die alles verwierp waar hun ouders a\n",
      "+  ﻿Als we hier in België op straat rondlopen , merken we dat er zeer \n"
     ]
    }
   ],
   "source": [
    "from __future__ import print_function\n",
    "for doc in dev_test_documents[:10]:\n",
    "    print('+ ', doc[:70])"
   ]
  },
  {
   "cell_type": "markdown",
   "metadata": {},
   "source": [
    "For each of these documents we need to decide whether or not they were in fact written by the target authors proposed:"
   ]
  },
  {
   "cell_type": "code",
   "execution_count": 5,
   "metadata": {
    "collapsed": false
   },
   "outputs": [
    {
     "name": "stdout",
     "output_type": "stream",
     "text": [
      "+  DE001\n",
      "+  DE002\n",
      "+  DE003\n",
      "+  DE004\n",
      "+  DE005\n",
      "+  DE006\n",
      "+  DE007\n",
      "+  DE008\n",
      "+  DE009\n",
      "+  DE010\n"
     ]
    }
   ],
   "source": [
    "for doc in dev_test_labels[:10]:\n",
    "    print('+ ', doc[:70])"
   ]
  },
  {
   "cell_type": "markdown",
   "metadata": {},
   "source": [
    "The first and crucial step is to vectorize the documents using a vector space model. Below, we use generic example, using the 10,000 most common word unigrams and a plain *tf* model:"
   ]
  },
  {
   "cell_type": "code",
   "execution_count": 6,
   "metadata": {
    "collapsed": true
   },
   "outputs": [],
   "source": [
    "from ruzicka.vectorization import Vectorizer\n",
    "vectorizer = Vectorizer(mfi = 10000,\n",
    "                        vector_space = 'tf',\n",
    "                        ngram_type = 'word',\n",
    "                        ngram_size = 1)\n",
    "\n",
    "dev_train_X = vectorizer.fit_transform(dev_train_documents).toarray()\n",
    "dev_test_X = vectorizer.transform(dev_test_documents).toarray()"
   ]
  },
  {
   "cell_type": "markdown",
   "metadata": {},
   "source": [
    "Note that we use `sklearn` conventions here: we fit the vectorizer only on the vocabulary of the known documents and apply it it later to the unknown documents (since in real life too, we will not necessarily know the known documents in advance). This gives us two compatible corpus matrices:"
   ]
  },
  {
   "cell_type": "code",
   "execution_count": 7,
   "metadata": {
    "collapsed": false
   },
   "outputs": [
    {
     "name": "stdout",
     "output_type": "stream",
     "text": [
      "(172, 9977)\n",
      "(96, 9977)\n"
     ]
    }
   ],
   "source": [
    "print(dev_train_X.shape)\n",
    "print(dev_test_X.shape)"
   ]
  },
  {
   "cell_type": "markdown",
   "metadata": {},
   "source": [
    "We now encode the author labels in the development problem sets as integers, using sklearn's convenient `LabelEncoder`:"
   ]
  },
  {
   "cell_type": "code",
   "execution_count": 8,
   "metadata": {
    "collapsed": false
   },
   "outputs": [
    {
     "name": "stdout",
     "output_type": "stream",
     "text": [
      "[ 0  1  2  3  4  5  6  7  8  9 10 11 12 13 14 15 16 17 18 19 20 21 22 23 24\n",
      " 25 26 27 28 29 30 31 32 33 34 35 36 37 38 39 40 41 42 43 44 45 46 47 48 49\n",
      " 50 51 52 53 54 55 56 57 58 59 60 61 62 63 64 65 66 67 68 69 70 71 72 73 74\n",
      " 75 76 77 78 79 80 81 82 83 84 85 86 87 88 89 90 91 92 93 94 95]\n"
     ]
    }
   ],
   "source": [
    "from sklearn.preprocessing import LabelEncoder\n",
    "label_encoder = LabelEncoder()\n",
    "label_encoder.fit(dev_train_labels + dev_test_labels)\n",
    "dev_train_y = label_encoder.transform(dev_train_labels)\n",
    "dev_test_y = label_encoder.transform(dev_test_labels)\n",
    "print(dev_test_y)"
   ]
  },
  {
   "cell_type": "markdown",
   "metadata": {},
   "source": [
    "We now construct and fit an 'O2' verifier: this extrinsic verification technique is based on the General Imposters framework. We apply it with the minmax metric and a profile base, meaning that the known documents for each author will be represented as a mean centroid:"
   ]
  },
  {
   "cell_type": "code",
   "execution_count": 9,
   "metadata": {
    "collapsed": false
   },
   "outputs": [],
   "source": [
    "from ruzicka.Order2Verifier import Order2Verifier\n",
    "dev_verifier = Order2Verifier(metric = 'minmax',\n",
    "                              base = 'profile',\n",
    "                              nb_bootstrap_iter=100,\n",
    "                              rnd_prop = 0.5)\n",
    "dev_verifier.fit(dev_train_X, dev_train_y)"
   ]
  },
  {
   "cell_type": "markdown",
   "metadata": {},
   "source": [
    "We can now obtain the probability which this O1 verifier would assign to each combination of an unknown document and the target author suggested in the problem:"
   ]
  },
  {
   "cell_type": "code",
   "execution_count": 10,
   "metadata": {
    "collapsed": false
   },
   "outputs": [
    {
     "name": "stderr",
     "output_type": "stream",
     "text": [
      "ruzicka/Order2Verifier.py:191: FutureWarning: elementwise comparison failed; returning scalar instead, but in the future will perform elementwise comparison\n",
      "  if rnd_feature_idxs == 'all': # use entire feature space\n",
      "ruzicka/Order2Verifier.py:252: FutureWarning: elementwise comparison failed; returning scalar instead, but in the future will perform elementwise comparison\n",
      "  if rnd_feature_idxs == 'all':\n"
     ]
    },
    {
     "name": "stdout",
     "output_type": "stream",
     "text": [
      "\t - # test documents processed: 10 out of 96\n",
      "\t - # test documents processed: 20 out of 96\n",
      "\t - # test documents processed: 30 out of 96\n",
      "\t - # test documents processed: 40 out of 96\n",
      "\t - # test documents processed: 50 out of 96\n",
      "\t - # test documents processed: 60 out of 96\n",
      "\t - # test documents processed: 70 out of 96\n",
      "\t - # test documents processed: 80 out of 96\n",
      "\t - # test documents processed: 90 out of 96\n"
     ]
    }
   ],
   "source": [
    "dev_test_scores = dev_verifier.predict_proba(test_X = dev_test_X,\n",
    "                                             test_y = dev_test_y,\n",
    "                                             nb_imposters = 30)"
   ]
  },
  {
   "cell_type": "markdown",
   "metadata": {},
   "source": [
    "This gives us as an array of probability scores for each problem, corresponding to the number of iterations in which the target's author's profile was closer to the anonymous document than to one of the imposters:"
   ]
  },
  {
   "cell_type": "code",
   "execution_count": 11,
   "metadata": {
    "collapsed": false
   },
   "outputs": [
    {
     "name": "stdout",
     "output_type": "stream",
     "text": [
      "[ 0.69        0.61000001  0.          0.          0.08        0.07        0.\n",
      "  1.          1.          0.75999999  0.49000001  0.31        0.94        0.94\n",
      "  0.01        0.38999999  0.54000002  0.          0.03        0.36000001\n",
      "  0.          0.          0.56        0.38999999  0.          0.81999999\n",
      "  0.          0.52999997  0.04        0.          0.          0.01\n",
      "  0.25999999  0.          0.02        0.18000001  0.          0.07        0.09\n",
      "  0.          0.23        0.70999998  0.02        0.77999997  1.          0.\n",
      "  0.38        0.01        0.          0.23999999  0.01        0.40000001\n",
      "  0.03        0.38        0.72000003  0.          0.02        0.76999998\n",
      "  0.02        0.83999997  0.98000002  0.64999998  0.97000003  0.50999999\n",
      "  0.68000001  0.89999998  0.41999999  0.16        0.56        0.87\n",
      "  0.34999999  0.01        0.02        0.50999999  0.07        0.12\n",
      "  0.20999999  0.          0.99000001  0.          0.88        0.38        0.\n",
      "  0.          1.          0.          1.          0.76999998  0.01        0.\n",
      "  0.          0.63        0.          0.          0.46000001  0.56      ]\n"
     ]
    }
   ],
   "source": [
    "print(dev_test_scores)"
   ]
  },
  {
   "cell_type": "markdown",
   "metadata": {},
   "source": [
    "Let us now load the ground truth to check how well we did:"
   ]
  },
  {
   "cell_type": "code",
   "execution_count": 12,
   "metadata": {
    "collapsed": false
   },
   "outputs": [
    {
     "name": "stdout",
     "output_type": "stream",
     "text": [
      "[1.0, 1.0, 0.0, 0.0, 0.0, 0.0, 0.0, 1.0, 1.0, 1.0, 1.0, 1.0, 1.0, 1.0, 1.0, 1.0, 1.0, 0.0, 0.0, 1.0, 0.0, 0.0, 1.0, 1.0, 0.0, 1.0, 0.0, 1.0, 0.0, 0.0, 0.0, 0.0, 1.0, 0.0, 0.0, 1.0, 0.0, 0.0, 1.0, 0.0, 0.0, 1.0, 0.0, 1.0, 1.0, 0.0, 1.0, 0.0, 0.0, 1.0, 0.0, 1.0, 0.0, 0.0, 1.0, 0.0, 0.0, 1.0, 0.0, 1.0, 0.0, 1.0, 1.0, 1.0, 1.0, 1.0, 1.0, 1.0, 1.0, 1.0, 0.0, 0.0, 0.0, 1.0, 0.0, 0.0, 1.0, 0.0, 1.0, 0.0, 1.0, 1.0, 0.0, 0.0, 1.0, 0.0, 1.0, 1.0, 0.0, 0.0, 0.0, 1.0, 0.0, 0.0, 1.0, 0.0]\n"
     ]
    }
   ],
   "source": [
    "dev_gt_scores = load_ground_truth(\n",
    "                    filepath=os.sep.join((D, 'train', 'truth.txt')),\n",
    "                    labels=dev_test_labels)\n",
    "print(dev_gt_scores)"
   ]
  },
  {
   "cell_type": "markdown",
   "metadata": {},
   "source": [
    "There is one final step needed: the PAN evaluation measures allow systems to leave a number of difficult problems unanswered, by setting the probability exactly at 0.5. To account for this strict threshold, we fit a score shifter, which will attempt to rectify mid-range score to 0.5. We can tune these parameters as follows:"
   ]
  },
  {
   "cell_type": "code",
   "execution_count": 13,
   "metadata": {
    "collapsed": false
   },
   "outputs": [
    {
     "name": "stdout",
     "output_type": "stream",
     "text": [
      "p1 for optimal combo: 0.08\n",
      "p2 for optimal combo: 0.35\n",
      "AUC for optimal combo: 0.955729166667\n",
      "c@1 for optimal combo: 0.943142361111\n"
     ]
    }
   ],
   "source": [
    "from ruzicka.score_shifting import ScoreShifter\n",
    "shifter = ScoreShifter()\n",
    "shifter.fit(predicted_scores=dev_test_scores,\n",
    "            ground_truth_scores=dev_gt_scores)\n",
    "dev_test_scores = shifter.transform(dev_test_scores)"
   ]
  },
  {
   "cell_type": "markdown",
   "metadata": {},
   "source": [
    "As you can see, this shifter optimizes 2 parameters using a grid search: all values in between *p1* and *p2* will be rectified to 0.5:"
   ]
  },
  {
   "cell_type": "code",
   "execution_count": 14,
   "metadata": {
    "collapsed": false
   },
   "outputs": [
    {
     "name": "stdout",
     "output_type": "stream",
     "text": [
      "[0.79849999845027919, 0.7465000092983245, 0.0, 0.0, 0.0063999998569488539, 0.005600000023841859, 0.0, 1.0, 1.0, 0.8439999938011169, 0.66850000619888306, 0.5, 0.96099999845027928, 0.96099999845027928, 0.00079999998211860673, 0.60349999070167537, 0.70100001394748679, 0.0, 0.00239999994635582, 0.58400000929832463, 0.0, 0.0, 0.71400000154972076, 0.60349999070167537, 0.0, 0.88299999535083762, 0.0, 0.69449998140335079, 0.0031999999284744269, 0.0, 0.0, 0.00079999998211860673, 0.5, 0.0, 0.0015999999642372135, 0.5, 0.0, 0.005600000023841859, 0.5, 0.0, 0.5, 0.81149998605251317, 0.0015999999642372135, 0.85699998140335087, 1.0, 0.0, 0.59699999690055849, 0.00079999998211860673, 0.0, 0.5, 0.00079999998211860673, 0.61000000387430187, 0.00239999994635582, 0.59699999690055849, 0.81800001859664917, 0.0, 0.0015999999642372135, 0.85049998760223389, 0.0015999999642372135, 0.89599998295307159, 0.98700001239776602, 0.77249998450279234, 0.98050001859664904, 0.68149999380111692, 0.7920000046491622, 0.93499998450279231, 0.62299999147653584, 0.5, 0.71400000154972076, 0.91550000309944157, 0.5, 0.00079999998211860673, 0.0015999999642372135, 0.68149999380111692, 0.005600000023841859, 0.5, 0.5, 0.0, 0.99350000619888301, 0.0, 0.92199999690055834, 0.59699999690055849, 0.0, 0.0, 1.0, 0.0, 1.0, 0.85049998760223389, 0.00079999998211860673, 0.0, 0.0, 0.75949999690055847, 0.0, 0.0, 0.64900000542402259, 0.71400000154972076]\n"
     ]
    }
   ],
   "source": [
    "print(dev_test_scores)"
   ]
  },
  {
   "cell_type": "markdown",
   "metadata": {},
   "source": [
    "We can later apply this optimized score shifter to the test problems. Now the main question: how well would our O2 verifier perform on the development problems, given the optimal *p1* and *p2* found? We answer this question using the three evaluation measures used in the PAN competition."
   ]
  },
  {
   "cell_type": "code",
   "execution_count": 15,
   "metadata": {
    "collapsed": false
   },
   "outputs": [
    {
     "name": "stdout",
     "output_type": "stream",
     "text": [
      "Accuracy:  0.885416666667\n",
      "AUC:  0.955729166667\n",
      "c@1:  0.943142361111\n",
      "AUC x c@1:  0.901388662833\n"
     ]
    }
   ],
   "source": [
    "from ruzicka.evaluation import pan_metrics\n",
    "dev_acc_score, dev_auc_score, dev_c_at_1_score = \\\n",
    "    pan_metrics(prediction_scores=dev_test_scores,\n",
    "    ground_truth_scores=dev_gt_scores)\n",
    "print('Accuracy: ', dev_acc_score)\n",
    "print('AUC: ', dev_auc_score)\n",
    "print('c@1: ', dev_c_at_1_score)\n",
    "print('AUC x c@1: ', dev_auc_score * dev_c_at_1_score)\n"
   ]
  },
  {
   "cell_type": "markdown",
   "metadata": {},
   "source": [
    "Our score shifting approach clearly pays off, since we are able to leave difficult problems unswered, yielding to a higher c@1 than pure accuracy. We can now proceed to the test problems. The following code block runs entire parallel to the approach above: only the score shifter isn't retrained again:"
   ]
  },
  {
   "cell_type": "code",
   "execution_count": 16,
   "metadata": {
    "collapsed": false
   },
   "outputs": [
    {
     "name": "stdout",
     "output_type": "stream",
     "text": [
      "\t - # test documents processed: 10 out of 96\n",
      "\t - # test documents processed: 20 out of 96\n",
      "\t - # test documents processed: 30 out of 96\n",
      "\t - # test documents processed: 40 out of 96\n",
      "\t - # test documents processed: 50 out of 96\n",
      "\t - # test documents processed: 60 out of 96\n",
      "\t - # test documents processed: 70 out of 96\n",
      "\t - # test documents processed: 80 out of 96\n",
      "\t - # test documents processed: 90 out of 96\n",
      "Accuracy:  0.864583333333\n",
      "AUC:  0.9609375\n",
      "c@1:  0.911458333333\n",
      "AUC x c@1:  0.875854492187\n"
     ]
    }
   ],
   "source": [
    "train_data, test_data = load_pan_dataset(D+'test')\n",
    "train_labels, train_documents = zip(*train_data)\n",
    "test_labels, test_documents = zip(*test_data)\n",
    "                \n",
    "# vectorize:\n",
    "vectorizer = Vectorizer(mfi = 10000,\n",
    "                        vector_space = 'tf',\n",
    "                        ngram_type = 'word',\n",
    "                        ngram_size = 1)\n",
    "train_X = vectorizer.fit_transform(train_documents).toarray()\n",
    "test_X = vectorizer.transform(test_documents).toarray()\n",
    "                \n",
    "# encode author labels:\n",
    "label_encoder = LabelEncoder()\n",
    "label_encoder.fit(train_labels+test_labels)\n",
    "train_y = label_encoder.transform(train_labels)\n",
    "test_y = label_encoder.transform(test_labels)\n",
    "                \n",
    "# fit and predict a verifier on the test data:\n",
    "test_verifier = Order2Verifier(metric = 'minmax',\n",
    "                               base = 'profile',\n",
    "                               nb_bootstrap_iter=100,\n",
    "                               rnd_prop = 0.5)\n",
    "test_verifier.fit(train_X, train_y)\n",
    "test_scores = test_verifier.predict_proba(test_X=test_X,\n",
    "                                          test_y=test_y,\n",
    "                                          nb_imposters=30)\n",
    "                \n",
    "# load the ground truth:\n",
    "test_gt_scores = load_ground_truth(\n",
    "                    filepath=os.sep.join((D, 'test', 'truth.txt')),\n",
    "                    labels=test_labels)\n",
    "                \n",
    "# apply the optimzed score shifter:\n",
    "test_scores = shifter.transform(test_scores)\n",
    "                \n",
    "test_acc_score, test_auc_score, test_c_at_1_score = \\\n",
    "    pan_metrics(prediction_scores=test_scores,\n",
    "                ground_truth_scores=test_gt_scores)\n",
    "\n",
    "print('Accuracy: ', test_acc_score)\n",
    "print('AUC: ', test_auc_score)\n",
    "print('c@1: ', test_c_at_1_score)\n",
    "print('AUC x c@1: ', test_auc_score * test_c_at_1_score)"
   ]
  },
  {
   "cell_type": "markdown",
   "metadata": {},
   "source": [
    "While our final test results are a bit lower, the verifier seems to scale reasonably well to the unseen verification problems in the test set."
   ]
  },
  {
   "cell_type": "markdown",
   "metadata": {},
   "source": [
    "# First Order Verification"
   ]
  },
  {
   "cell_type": "markdown",
   "metadata": {},
   "source": [
    "It is interesting now to compare the GI approach to a first-order verification system, which often yields very competitive results too. Our implementation closely resembles the system proposed by Potha and Stamatatos in 2014 (A Profile-based Method for Authorship Verification). We import and fit this O1 verifier:"
   ]
  },
  {
   "cell_type": "code",
   "execution_count": 18,
   "metadata": {
    "collapsed": false
   },
   "outputs": [
    {
     "name": "stdout",
     "output_type": "stream",
     "text": [
      "[ 0.0508821   0.05295295 -0.05339944 -0.07909369 -0.02331865 -0.04220104\n",
      " -0.06020927  0.11833715  0.11711633  0.03420103  0.01194018 -0.00176835\n",
      "  0.09044588  0.05795223 -0.10883117 -0.00071907 -0.08573282 -0.13027966\n",
      " -0.05026388 -0.01643515 -0.05558467 -0.12349176  0.0027076  -0.04140735\n",
      " -0.06439781 -0.01183951 -0.09243321 -0.03753805 -0.06817973 -0.10692203\n",
      " -0.08212757 -0.09001279 -0.06661606 -0.10339952 -0.09174156 -0.03461802\n",
      " -0.1220206  -0.05210984 -0.12378168 -0.08442163 -0.02438498  0.03309178\n",
      " -0.07402968  0.02882493  0.12914622 -0.14603448 -0.03053057 -0.05629373\n",
      " -0.10035634 -0.10980856 -0.07716274 -0.07025313 -0.0667429  -0.11839318\n",
      "  0.02641141 -0.13112211 -0.03812957  0.05383098 -0.05459356  0.03681302\n",
      " -0.03131771  0.03050268  0.0914582   0.02064216  0.01521158  0.0497179\n",
      "  0.00120807 -0.06035507  0.01666337  0.07360435 -0.15455794 -0.19472182\n",
      " -0.18665552 -0.02599692 -0.11922693 -0.1706109  -0.08144045 -0.09309399\n",
      "  0.09763068 -0.08678317 -0.03580868 -0.03423667 -0.09028387 -0.10228109\n",
      "  0.12156731 -0.10104704  0.15736157  0.02625966 -0.10609066 -0.14817739\n",
      " -0.08555293 -0.0347091  -0.08178961 -0.13069367 -0.01512218  0.00522423]\n"
     ]
    }
   ],
   "source": [
    "from ruzicka.Order1Verifier import Order1Verifier\n",
    "dev_verifier = Order1Verifier(metric = 'minmax',\n",
    "                              base = 'profile')\n",
    "dev_verifier.fit(dev_train_X, dev_train_y)\n",
    "dev_test_scores = dev_verifier.predict_proba(test_X = dev_test_X,\n",
    "                                             test_y = dev_test_y)\n",
    "print(dev_test_scores)"
   ]
  },
  {
   "cell_type": "markdown",
   "metadata": {},
   "source": [
    "Note that in this case, the 'probabilities' returned are only distance-based pseudo-probabilities and don't lie in the range of 0-1. Applying the score shifter is therefore quintessential with O1, since it will scale the distances to a more useful range:"
   ]
  },
  {
   "cell_type": "code",
   "execution_count": 87,
   "metadata": {
    "collapsed": false
   },
   "outputs": [
    {
     "name": "stdout",
     "output_type": "stream",
     "text": [
      "p1 for optimal combo: 0.4\n",
      "p2 for optimal combo: 0.48\n",
      "AUC for optimal combo: 0.900607638889\n",
      "c@1 for optimal combo: 0.875217013889\n",
      "[0.84273804257641682, 0.84579651967613234, 0.16055557333113935, 0.13136447581750335, 0.5, 0.5, 0.15281896211244364, 0.94236395287675823, 0.94056089246296626, 0.81810138143372435, 0.78522383099719839, 0.76497738691808459, 0.90117068640332054, 0.85318007055721723, 0.097579896593504079, 0.76652709278296061, 0.12382180468222422, 0.073212381489759837, 0.1641178680337276, 0.74331566101724755, 0.1580729506571803, 0.080924073032932753, 0.77158802155890516, 0.5, 0.14806038755174178, 0.75010306283465722, 0.11620952097510422, 0.5, 0.14376377501934579, 0.099748856395121779, 0.12791770548024634, 0.11895935299583767, 0.14554024993147938, 0.10375076667785683, 0.11699530335218733, 0.5, 0.082595451922209323, 0.16202068773225708, 0.080594699930370509, 0.1253114324598073, 0.5, 0.81646311591762899, 0.13711767047081092, 0.81016129564706429, 0.95832810646525068, 0.055313418246450516, 0.5, 0.15726739505930193, 0.10720810079060721, 0.096469481269528826, 0.13355821986162472, 0.14140818851734535, 0.1453961491991084, 0.086716543261792553, 0.80659672566975438, 0.072255276343457478, 0.5, 0.84709331114940478, 0.15919894077835728, 0.82195909618097507, 0.5, 0.8126392052519571, 0.90266581276148095, 0.79807598435680915, 0.79005543781347454, 0.84101861205194739, 0.76937332602672193, 0.1526533275300285, 0.79219962014423961, 0.87629704456372703, 0.045629957377535973, 0.0, 0.0091640752404909525, 0.5, 0.085769324725887816, 0.027392276153343366, 0.12869834140260192, 0.11545881574997982, 0.91178208691786444, 0.12262850435053184, 0.5, 0.5, 0.11865137831030044, 0.10502139926348139, 0.94713464192102259, 0.10642340187767725, 1.0, 0.80637259756637025, 0.1006933662706436, 0.05287887429428817, 0.12402617310811503, 0.5, 0.12830165808952429, 0.072742022614266974, 0.74525481807197902, 0.77530488596624436]\n"
     ]
    }
   ],
   "source": [
    "shifter = ScoreShifter()\n",
    "shifter.fit(predicted_scores=dev_test_scores,\n",
    "            ground_truth_scores=dev_gt_scores)\n",
    "dev_test_scores = shifter.transform(dev_test_scores)\n",
    "print(dev_test_scores)"
   ]
  },
  {
   "cell_type": "markdown",
   "metadata": {
    "collapsed": false
   },
   "source": [
    "And again, we are now ready to test the performance of O1 on the test problems."
   ]
  },
  {
   "cell_type": "code",
   "execution_count": 20,
   "metadata": {
    "collapsed": false
   },
   "outputs": [
    {
     "name": "stdout",
     "output_type": "stream",
     "text": [
      "Accuracy:  0.5\n",
      "AUC:  0.881944444444\n",
      "c@1:  0.637478298611\n",
      "AUC x c@1:  0.562220443914\n"
     ]
    }
   ],
   "source": [
    "train_data, test_data = load_pan_dataset(D+'test')\n",
    "train_labels, train_documents = zip(*train_data)\n",
    "test_labels, test_documents = zip(*test_data)\n",
    "                \n",
    "# vectorize:\n",
    "vectorizer = Vectorizer(mfi = 10000,\n",
    "                        vector_space = 'tf',\n",
    "                        ngram_type = 'word',\n",
    "                        ngram_size = 1)\n",
    "train_X = vectorizer.fit_transform(train_documents).toarray()\n",
    "test_X = vectorizer.transform(test_documents).toarray()\n",
    "                \n",
    "# encode author labels:\n",
    "label_encoder = LabelEncoder()\n",
    "label_encoder.fit(train_labels+test_labels)\n",
    "train_y = label_encoder.transform(train_labels)\n",
    "test_y = label_encoder.transform(test_labels)\n",
    "                \n",
    "# fit and predict a verifier on the test data:\n",
    "test_verifier = Order1Verifier(metric = 'minmax',\n",
    "                               base = 'profile')\n",
    "test_verifier.fit(train_X, train_y)\n",
    "test_scores = test_verifier.predict_proba(test_X=test_X,\n",
    "                                          test_y=test_y)\n",
    "                \n",
    "# load the ground truth:\n",
    "test_gt_scores = load_ground_truth(\n",
    "                    filepath=os.sep.join((D, 'test', 'truth.txt')),\n",
    "                    labels=test_labels)\n",
    "                \n",
    "# apply the optimzed score shifter:\n",
    "test_scores = shifter.transform(test_scores)\n",
    "                \n",
    "test_acc_score, test_auc_score, test_c_at_1_score = \\\n",
    "    pan_metrics(prediction_scores=test_scores,\n",
    "                ground_truth_scores=test_gt_scores)\n",
    "\n",
    "print('Accuracy: ', test_acc_score)\n",
    "print('AUC: ', test_auc_score)\n",
    "print('c@1: ', test_c_at_1_score)\n",
    "print('AUC x c@1: ', test_auc_score * test_c_at_1_score)"
   ]
  },
  {
   "cell_type": "markdown",
   "metadata": {},
   "source": [
    "Interestingly, O1 maintains a healthy AUC, but its accuracy and c@1 are disappointing. This is, by the way, certainly not true for other data sets: as we show in the paper, O1 produces relatively high scores in other corpora."
   ]
  },
  {
   "cell_type": "markdown",
   "metadata": {
    "collapsed": true
   },
   "source": [
    "----------------------------"
   ]
  }
 ],
 "metadata": {
  "kernelspec": {
   "display_name": "Python 2",
   "language": "python",
   "name": "python2"
  },
  "language_info": {
   "codemirror_mode": {
    "name": "ipython",
    "version": 2
   },
   "file_extension": ".py",
   "mimetype": "text/x-python",
   "name": "python",
   "nbconvert_exporter": "python",
   "pygments_lexer": "ipython2",
   "version": "2.7.10"
  }
 },
 "nbformat": 4,
 "nbformat_minor": 0
}
